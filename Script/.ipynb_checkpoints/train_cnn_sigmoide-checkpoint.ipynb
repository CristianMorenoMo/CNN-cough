{
 "cells": [
  {
   "cell_type": "code",
   "execution_count": 1,
   "metadata": {},
   "outputs": [
    {
     "name": "stderr",
     "output_type": "stream",
     "text": [
      "/home/camilo/anaconda3/envs/R/lib/python3.7/site-packages/librosa/util/decorators.py:9: NumbaDeprecationWarning: An import was requested from a module that has moved location.\n",
      "Import requested from: 'numba.decorators', please update to use 'numba.core.decorators' or pin to Numba version 0.48.0. This alias will not be present in Numba version 0.50.0.\n",
      "  from numba.decorators import jit as optional_jit\n",
      "/home/camilo/anaconda3/envs/R/lib/python3.7/site-packages/librosa/util/decorators.py:9: NumbaDeprecationWarning: An import was requested from a module that has moved location.\n",
      "Import of 'jit' requested from: 'numba.decorators', please update to use 'numba.core.decorators' or pin to Numba version 0.48.0. This alias will not be present in Numba version 0.50.0.\n",
      "  from numba.decorators import jit as optional_jit\n"
     ]
    }
   ],
   "source": [
    "import librosa\n",
    "import librosa.display\n",
    "import numpy as np \n",
    "import matplotlib.pyplot as plt\n",
    "import os\n",
    "import glob\n",
    "import pandas as pd\n",
    "from tensorflow.python.keras.models import Sequential\n",
    "from sklearn.model_selection import train_test_split\n",
    "from keras.layers import Dense, Input, Dropout, BatchNormalization, Convolution2D, MaxPooling2D, GlobalMaxPool2D,Flatten\n",
    "from keras import optimizers, losses, activations, models\n",
    "from keras.callbacks import ModelCheckpoint, EarlyStopping\n",
    "from random import shuffle\n",
    "from sklearn.metrics import confusion_matrix"
   ]
  },
  {
   "cell_type": "code",
   "execution_count": 2,
   "metadata": {},
   "outputs": [],
   "source": [
    "######################\n",
    "input_length = 22050*6\n",
    "batch_size = 20\n",
    "######################"
   ]
  },
  {
   "cell_type": "code",
   "execution_count": 3,
   "metadata": {},
   "outputs": [],
   "source": [
    "def preprocess_audio_mel_T(audio, sample_rate=22050, window_size=20, #log_specgram\n",
    "                 step_size=10, eps=1e-10):\n",
    "\n",
    "    mel_spec = librosa.feature.melspectrogram(y=audio, sr=sample_rate, n_mels= n_mels)\n",
    "    mel_db = (librosa.power_to_db(mel_spec, ref=np.max))\n",
    "\n",
    "    return (mel_db.T)\n",
    "\n",
    "def load_audio_file(file_path, input_length=input_length):\n",
    "    data = librosa.core.load(file_path, sr=22050)[0] #, sr=16000\n",
    "    if len(data)>input_length:\n",
    "        \n",
    "        \n",
    "        max_offset = len(data)-input_length\n",
    "        \n",
    "        offset = np.random.randint(max_offset)\n",
    "        \n",
    "        data = data[offset:(input_length+offset)]\n",
    "        \n",
    "        \n",
    "    else:\n",
    "        if input_length > len(data):\n",
    "            max_offset = input_length - len(data)\n",
    "\n",
    "            offset = np.random.randint(max_offset)\n",
    "        else:\n",
    "            offset = 0\n",
    "        \n",
    "        \n",
    "        data = np.pad(data, (offset, input_length - len(data) - offset), \"constant\")\n",
    "        \n",
    "        \n",
    "    data = preprocess_audio_mel_T(data)\n",
    "    return data\n",
    "\n",
    "def chunker(seq, size):\n",
    "    return (seq[pos:pos + size] for pos in range(0, len(seq), size))\n",
    "\n",
    "def train_generator(list_files, batch_size=batch_size):\n",
    "    while True:\n",
    "        shuffle(list_files)\n",
    "        for batch_files in chunker(list_files, size=batch_size):\n",
    "            batch_data = [load_audio_file(fpath) for fpath in batch_files]\n",
    "            batch_data = np.array(batch_data)[:, :, :,np.newaxis]\n",
    "            batch_labels = [file_to_int[fpath] for fpath in batch_files]\n",
    "            batch_labels = np.array(batch_labels)\n",
    "            \n",
    "            yield batch_data, batch_labels\n",
    "        "
   ]
  },
  {
   "cell_type": "code",
   "execution_count": 4,
   "metadata": {},
   "outputs": [],
   "source": [
    "#########\n",
    "n_mels = 432\n",
    "validation_steps = 500\n",
    "##### \n",
    "###3 parametros cnn\n",
    "filtrosConv1 = 32\n",
    "filtrosConv2 = 32\n",
    "tamano_filtro1 = (5, 5)\n",
    "tamano_filtro2 = (5, 5)\n",
    "tamano_pool_1 = (2, 2)\n",
    "tamano_pool_2 = (4, 4)\n",
    "lr = 0.0004"
   ]
  },
  {
   "cell_type": "code",
   "execution_count": 5,
   "metadata": {
    "scrolled": true
   },
   "outputs": [],
   "source": [
    "train_files = glob.glob('../dataset/dataset_train_CNN_sigmo/*.wav')\n",
    "train_labels = pd.read_csv('../metadata/dataset_train_cnn.csv')\n",
    "file_to_label = {'../dataset/dataset_train_CNN_sigmo/' + k:v for k,v in zip(train_labels.filename.values, train_labels.target.values)}\n",
    "list_labels = sorted(list(set(train_labels.target.values)))\n",
    "label_to_int = {k:v for v,k in enumerate(list_labels)}\n",
    "int_to_label = {v:k for k,v in label_to_int.items()}\n",
    "file_to_int = {k:label_to_int[v] for k,v in file_to_label.items()}\n",
    "nclass = len(list_labels)\n",
    "tr_files, val_files = train_test_split(sorted(train_files), test_size=0.1, random_state=42)"
   ]
  },
  {
   "cell_type": "code",
   "execution_count": 6,
   "metadata": {},
   "outputs": [],
   "source": [
    "def get_model_mel():\n",
    "    nclass = len(list_labels)\n",
    "    inp = Input(shape=(259, 432, 1))\n",
    "    norm_inp = BatchNormalization()(inp)\n",
    "    img_1 = MaxPooling2D(pool_size=(2, 2))(norm_inp)\n",
    "    img_1 = Convolution2D(16, kernel_size=(5, 5), activation=activations.relu, padding=\"valid\")(img_1)\n",
    "    img_1 = MaxPooling2D(pool_size=(4, 4))(img_1)\n",
    "    img_1 = Convolution2D(16, kernel_size=(5, 5), activation=activations.relu, padding=\"valid\")(img_1)\n",
    "    img_1 = MaxPooling2D(pool_size=(2, 2))(img_1)\n",
    "    img_1 = Flatten()(img_1)\n",
    "\n",
    "    dense_1 = Dense(128, activation=activations.relu)(img_1)\n",
    "    dense_1= Dropout(rate=0.5)(dense_1)\n",
    "    dense_1 = Dense(128, activation=activations.relu)(dense_1)\n",
    "    dense_1= Dropout(rate=0.5)(dense_1)\n",
    "    predictions = Dense(nclass, activation=activations.softmax)(dense_1)\n",
    "\n",
    "    model = models.Model(inputs=inp, outputs=predictions)\n",
    "    opt = optimizers.Adam()\n",
    "\n",
    "    model.compile(optimizer=opt, loss=losses.sparse_categorical_crossentropy, metrics=['acc'])\n",
    "    model.summary()\n",
    "    return model"
   ]
  },
  {
   "cell_type": "code",
   "execution_count": 7,
   "metadata": {},
   "outputs": [
    {
     "name": "stdout",
     "output_type": "stream",
     "text": [
      "Model: \"functional_1\"\n",
      "_________________________________________________________________\n",
      "Layer (type)                 Output Shape              Param #   \n",
      "=================================================================\n",
      "input_1 (InputLayer)         [(None, 259, 432, 1)]     0         \n",
      "_________________________________________________________________\n",
      "batch_normalization (BatchNo (None, 259, 432, 1)       4         \n",
      "_________________________________________________________________\n",
      "max_pooling2d (MaxPooling2D) (None, 129, 216, 1)       0         \n",
      "_________________________________________________________________\n",
      "conv2d (Conv2D)              (None, 125, 212, 16)      416       \n",
      "_________________________________________________________________\n",
      "max_pooling2d_1 (MaxPooling2 (None, 31, 53, 16)        0         \n",
      "_________________________________________________________________\n",
      "conv2d_1 (Conv2D)            (None, 27, 49, 16)        6416      \n",
      "_________________________________________________________________\n",
      "max_pooling2d_2 (MaxPooling2 (None, 13, 24, 16)        0         \n",
      "_________________________________________________________________\n",
      "flatten (Flatten)            (None, 4992)              0         \n",
      "_________________________________________________________________\n",
      "dense (Dense)                (None, 128)               639104    \n",
      "_________________________________________________________________\n",
      "dropout (Dropout)            (None, 128)               0         \n",
      "_________________________________________________________________\n",
      "dense_1 (Dense)              (None, 128)               16512     \n",
      "_________________________________________________________________\n",
      "dropout_1 (Dropout)          (None, 128)               0         \n",
      "_________________________________________________________________\n",
      "dense_2 (Dense)              (None, 2)                 258       \n",
      "=================================================================\n",
      "Total params: 662,710\n",
      "Trainable params: 662,708\n",
      "Non-trainable params: 2\n",
      "_________________________________________________________________\n"
     ]
    }
   ],
   "source": [
    "model=get_model_mel()"
   ]
  },
  {
   "cell_type": "code",
   "execution_count": 8,
   "metadata": {
    "scrolled": true
   },
   "outputs": [
    {
     "name": "stdout",
     "output_type": "stream",
     "text": [
      "WARNING:tensorflow:From <ipython-input-8-7a31bab75101>:5: Model.fit_generator (from tensorflow.python.keras.engine.training) is deprecated and will be removed in a future version.\n",
      "Instructions for updating:\n",
      "Please use Model.fit, which supports generators.\n",
      "Epoch 1/30\n",
      "13/13 [==============================] - 47s 4s/step - loss: 0.6978 - acc: 0.6154 - val_loss: 2.7490 - val_acc: 0.5500\n",
      "Epoch 2/30\n",
      "13/13 [==============================] - 48s 4s/step - loss: 0.4827 - acc: 0.7649 - val_loss: 3.6386 - val_acc: 0.6000\n",
      "Epoch 3/30\n",
      "13/13 [==============================] - 47s 4s/step - loss: 0.4437 - acc: 0.7849 - val_loss: 1.7718 - val_acc: 0.6000\n",
      "Epoch 4/30\n",
      "13/13 [==============================] - 46s 4s/step - loss: 0.4141 - acc: 0.8088 - val_loss: 0.6396 - val_acc: 0.6500\n",
      "Epoch 5/30\n",
      "13/13 [==============================] - 47s 4s/step - loss: 0.3243 - acc: 0.8805 - val_loss: 1.8941 - val_acc: 0.6500\n",
      "Epoch 6/30\n",
      "13/13 [==============================] - 47s 4s/step - loss: 0.3125 - acc: 0.8526 - val_loss: 0.7467 - val_acc: 0.6500\n",
      "Epoch 7/30\n",
      "13/13 [==============================] - 46s 4s/step - loss: 0.2608 - acc: 0.9004 - val_loss: 0.6075 - val_acc: 0.7000\n",
      "Epoch 8/30\n",
      "13/13 [==============================] - 47s 4s/step - loss: 0.2357 - acc: 0.8964 - val_loss: 0.3521 - val_acc: 0.8500\n",
      "Epoch 9/30\n",
      "13/13 [==============================] - 48s 4s/step - loss: 0.2245 - acc: 0.9124 - val_loss: 0.4298 - val_acc: 0.7500\n",
      "Epoch 10/30\n",
      "13/13 [==============================] - 46s 4s/step - loss: 0.2208 - acc: 0.9163 - val_loss: 0.4520 - val_acc: 0.7000\n",
      "Epoch 11/30\n",
      "13/13 [==============================] - 48s 4s/step - loss: 0.1891 - acc: 0.9124 - val_loss: 0.3780 - val_acc: 0.8000\n",
      "Epoch 12/30\n",
      "13/13 [==============================] - 46s 4s/step - loss: 0.1958 - acc: 0.9004 - val_loss: 0.2331 - val_acc: 0.8500\n",
      "Epoch 13/30\n",
      "13/13 [==============================] - 48s 4s/step - loss: 0.1554 - acc: 0.9442 - val_loss: 0.3147 - val_acc: 0.8500\n",
      "Epoch 14/30\n",
      "13/13 [==============================] - 48s 4s/step - loss: 0.1995 - acc: 0.9124 - val_loss: 0.3105 - val_acc: 0.8500\n",
      "Epoch 15/30\n",
      "13/13 [==============================] - 47s 4s/step - loss: 0.1566 - acc: 0.9538 - val_loss: 0.0948 - val_acc: 0.9500\n",
      "Epoch 16/30\n",
      "13/13 [==============================] - 48s 4s/step - loss: 0.1696 - acc: 0.9363 - val_loss: 0.1883 - val_acc: 0.9500\n",
      "Epoch 17/30\n",
      "13/13 [==============================] - 48s 4s/step - loss: 0.1003 - acc: 0.9681 - val_loss: 0.0865 - val_acc: 1.0000\n",
      "Epoch 18/30\n",
      "13/13 [==============================] - 47s 4s/step - loss: 0.1011 - acc: 0.9681 - val_loss: 0.0154 - val_acc: 1.0000\n",
      "Epoch 19/30\n",
      "13/13 [==============================] - 47s 4s/step - loss: 0.1240 - acc: 0.9602 - val_loss: 0.0868 - val_acc: 0.9500\n",
      "Epoch 20/30\n",
      "13/13 [==============================] - 47s 4s/step - loss: 0.1141 - acc: 0.9482 - val_loss: 0.1246 - val_acc: 1.0000\n",
      "Epoch 21/30\n",
      "13/13 [==============================] - 47s 4s/step - loss: 0.1046 - acc: 0.9681 - val_loss: 0.1075 - val_acc: 0.9500\n",
      "Epoch 22/30\n",
      "13/13 [==============================] - 45s 3s/step - loss: 0.0965 - acc: 0.9602 - val_loss: 0.0857 - val_acc: 1.0000\n",
      "Epoch 23/30\n",
      "13/13 [==============================] - 47s 4s/step - loss: 0.0593 - acc: 0.9681 - val_loss: 0.1168 - val_acc: 0.9500\n",
      "Epoch 24/30\n",
      "13/13 [==============================] - 47s 4s/step - loss: 0.1090 - acc: 0.9641 - val_loss: 0.0737 - val_acc: 1.0000\n",
      "Epoch 25/30\n",
      "13/13 [==============================] - 46s 4s/step - loss: 0.0957 - acc: 0.9681 - val_loss: 0.0668 - val_acc: 1.0000\n",
      "Epoch 26/30\n",
      "13/13 [==============================] - 48s 4s/step - loss: 0.0525 - acc: 0.9801 - val_loss: 0.0116 - val_acc: 1.0000\n",
      "Epoch 27/30\n",
      "13/13 [==============================] - 47s 4s/step - loss: 0.0739 - acc: 0.9721 - val_loss: 0.0213 - val_acc: 1.0000\n",
      "Epoch 28/30\n",
      "13/13 [==============================] - 46s 4s/step - loss: 0.0543 - acc: 0.9681 - val_loss: 0.0165 - val_acc: 1.0000\n",
      "Epoch 29/30\n",
      "13/13 [==============================] - 49s 4s/step - loss: 0.0297 - acc: 0.9923 - val_loss: 0.0665 - val_acc: 0.9500\n",
      "Epoch 30/30\n",
      "13/13 [==============================] - 49s 4s/step - loss: 0.0746 - acc: 0.9721 - val_loss: 0.0495 - val_acc: 1.0000\n"
     ]
    },
    {
     "data": {
      "text/plain": [
       "<tensorflow.python.keras.callbacks.History at 0x7f9c707dd110>"
      ]
     },
     "execution_count": 8,
     "metadata": {},
     "output_type": "execute_result"
    }
   ],
   "source": [
    "model.fit_generator(train_generator(tr_files),\n",
    "                    steps_per_epoch=len(tr_files)//batch_size, \n",
    "                    epochs=30,\n",
    "                    validation_data=train_generator(val_files),\n",
    "                    validation_steps=len(val_files)//batch_size\n",
    "                   )"
   ]
  },
  {
   "cell_type": "code",
   "execution_count": 9,
   "metadata": {},
   "outputs": [],
   "source": [
    "test_label=pd.read_csv('../metadata/dataset_test_cnn.csv')\n",
    "test_files = glob.glob('../dataset/dataset_test_CNN_sigmo/*.wav')"
   ]
  },
  {
   "cell_type": "code",
   "execution_count": 10,
   "metadata": {},
   "outputs": [],
   "source": [
    "batch_data = [load_audio_file(fpath) for fpath in test_files]\n",
    "batch_data = np.array(batch_data)[:, :, :,np.newaxis]\n",
    "preds = model.predict(batch_data).tolist()\n",
    "predict_select=[ int_to_label[np.argmax(i) ]  for  i  in  preds ]"
   ]
  },
  {
   "cell_type": "code",
   "execution_count": 11,
   "metadata": {},
   "outputs": [
    {
     "data": {
      "text/plain": [
       "array([[ 5, 10],\n",
       "       [10,  9]])"
      ]
     },
     "metadata": {},
     "output_type": "display_data"
    }
   ],
   "source": [
    "cm=confusion_matrix(test_label.target,predict_select)\n",
    "display(cm)\n",
    "TN,FP,FN,TP = cm.ravel()\n",
    "recall=TP/(TP+FN)\n",
    "precision=TP/(TP +FP)"
   ]
  },
  {
   "cell_type": "code",
   "execution_count": 12,
   "metadata": {},
   "outputs": [
    {
     "data": {
      "text/plain": [
       "array([[ 5, 10],\n",
       "       [10,  9]])"
      ]
     },
     "metadata": {},
     "output_type": "display_data"
    },
    {
     "name": "stdout",
     "output_type": "stream",
     "text": [
      "recall = 0.47368421052631576\n",
      "precision = 0.47368421052631576\n",
      "accuracy =0.4117647058823529\n",
      "specifity= 0.3333333333333333\n",
      "FI_score =0.47368421052631576\n"
     ]
    }
   ],
   "source": [
    "cm=confusion_matrix(test_label.target,predict_select)\n",
    "display(cm)\n",
    "TN,FP,FN,TP = cm.ravel()\n",
    "recall=TP/(TP+FN)\n",
    "precision=TP/(TP +FP)\n",
    "accuracy=(TP+TN)/(TP+TN+FP+FN)\n",
    "specifity=TN/(TN+FP)\n",
    "FI_score=2 * (precision*recall / (precision + recall))\n",
    "print('recall = ' + str(recall))\n",
    "print('precision = ' +str(precision))\n",
    "print('accuracy =' + str(accuracy))\n",
    "print('specifity= ' +str(specifity))\n",
    "print('FI_score =' + str(FI_score))"
   ]
  }
 ],
 "metadata": {
  "kernelspec": {
   "display_name": "Python 3",
   "language": "python",
   "name": "python3"
  },
  "language_info": {
   "codemirror_mode": {
    "name": "ipython",
    "version": 3
   },
   "file_extension": ".py",
   "mimetype": "text/x-python",
   "name": "python",
   "nbconvert_exporter": "python",
   "pygments_lexer": "ipython3",
   "version": "3.7.7"
  }
 },
 "nbformat": 4,
 "nbformat_minor": 4
}
