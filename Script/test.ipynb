{
 "cells": [
  {
   "cell_type": "code",
   "execution_count": 1,
   "metadata": {},
   "outputs": [],
   "source": [
    "import pandas as pd\n",
    "import numpy as np\n",
    "import glob\n",
    "import shutil\n",
    "import os"
   ]
  },
  {
   "cell_type": "code",
   "execution_count": 2,
   "metadata": {},
   "outputs": [],
   "source": [
    "cought=glob.glob('/home/camilo/Documents/covid-tos/dataset/test_covid/train/covid/*.wav')\n",
    "no_cought=glob.glob('/home/camilo/Documents/covid-tos/dataset/test_covid/train/no_covid/*.wav')\n",
    "test_no=glob.glob('/home/camilo/Documents/covid-tos/dataset/test_covid/test/no_covid/*.wav')\n",
    "test_si=glob.glob('/home/camilo/Documents/covid-tos/dataset/test_covid/test/covid/*.wav')"
   ]
  },
  {
   "cell_type": "code",
   "execution_count": 3,
   "metadata": {},
   "outputs": [],
   "source": [
    "data_train=pd.DataFrame()\n",
    "data_train['filename']=([x.split('/')[-1] for x in cought])\n",
    "data_train['category']='covid'\n",
    "data_train_f=pd.DataFrame()\n",
    "data_train_f['filename']=([x.split('/')[-1] for x in no_cought])\n",
    "data_train_f['category']='no_covid'\n",
    "final=data_train.append(data_train_f)\n",
    "final.to_csv('../metadata/dataset_train_covid_test.csv',index=False)"
   ]
  },
  {
   "cell_type": "code",
   "execution_count": 4,
   "metadata": {},
   "outputs": [],
   "source": [
    "data_test=pd.DataFrame()\n",
    "data_test['filename']=([x.split('/')[-1] for x in test_si])\n",
    "data_test['category']='covid'\n",
    "data_test_f=pd.DataFrame()\n",
    "data_test_f['filename']=([x.split('/')[-1] for x in test_no])\n",
    "data_test_f['category']='no_covid'\n",
    "final_test=data_test.append(data_test_f)\n",
    "final_test.to_csv('../metadata/dataset_test_covid_test.csv',index=False)"
   ]
  }
 ],
 "metadata": {
  "kernelspec": {
   "display_name": "Python 3",
   "language": "python",
   "name": "python3"
  },
  "language_info": {
   "codemirror_mode": {
    "name": "ipython",
    "version": 3
   },
   "file_extension": ".py",
   "mimetype": "text/x-python",
   "name": "python",
   "nbconvert_exporter": "python",
   "pygments_lexer": "ipython3",
   "version": "3.7.7"
  }
 },
 "nbformat": 4,
 "nbformat_minor": 4
}
