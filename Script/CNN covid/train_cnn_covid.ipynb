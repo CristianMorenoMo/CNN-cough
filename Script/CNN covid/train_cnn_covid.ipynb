{
 "cells": [
  {
   "cell_type": "code",
   "execution_count": 1,
   "metadata": {},
   "outputs": [
    {
     "name": "stderr",
     "output_type": "stream",
     "text": [
      "/home/camilo/anaconda3/envs/R/lib/python3.7/site-packages/librosa/util/decorators.py:9: NumbaDeprecationWarning: An import was requested from a module that has moved location.\n",
      "Import requested from: 'numba.decorators', please update to use 'numba.core.decorators' or pin to Numba version 0.48.0. This alias will not be present in Numba version 0.50.0.\n",
      "  from numba.decorators import jit as optional_jit\n",
      "/home/camilo/anaconda3/envs/R/lib/python3.7/site-packages/librosa/util/decorators.py:9: NumbaDeprecationWarning: An import was requested from a module that has moved location.\n",
      "Import of 'jit' requested from: 'numba.decorators', please update to use 'numba.core.decorators' or pin to Numba version 0.48.0. This alias will not be present in Numba version 0.50.0.\n",
      "  from numba.decorators import jit as optional_jit\n",
      "/home/camilo/anaconda3/envs/R/lib/python3.7/site-packages/noisereduce/noisereduce.py:5: TqdmExperimentalWarning: Using `tqdm.autonotebook.tqdm` in notebook mode. Use `tqdm.tqdm` instead to force console mode (e.g. in jupyter console)\n",
      "  from tqdm.autonotebook import tqdm\n"
     ]
    }
   ],
   "source": [
    "import librosa\n",
    "import numpy as np \n",
    "import matplotlib.pyplot as plt\n",
    "import os\n",
    "import glob\n",
    "import pandas as pd\n",
    "from tensorflow.python.keras.models import Sequential\n",
    "from sklearn.model_selection import train_test_split\n",
    "from keras.layers import Dense, Input, Dropout, BatchNormalization, Convolution2D, MaxPooling2D, GlobalMaxPool2D,Flatten\n",
    "from keras import optimizers, losses, activations, models\n",
    "from keras.callbacks import ModelCheckpoint, EarlyStopping\n",
    "from random import shuffle\n",
    "from sklearn.metrics import confusion_matrix\n",
    "import noisereduce as nr"
   ]
  },
  {
   "cell_type": "code",
   "execution_count": 22,
   "metadata": {},
   "outputs": [],
   "source": [
    "######################\n",
    "input_length = 29000*5\n",
    "batch_size =  20\n",
    "n_mels = 500\n",
    "validation_steps = 50\n",
    "######################"
   ]
  },
  {
   "cell_type": "code",
   "execution_count": 23,
   "metadata": {},
   "outputs": [],
   "source": [
    "def preprocess_audio_mel_T(audio, sample_rate=29000, window_size=4, #log_specgram\n",
    "                 step_size=10, eps=1e-10):\n",
    "\n",
    "    mel_spec = librosa.feature.melspectrogram(y=audio, sr=sample_rate, n_mels= n_mels)\n",
    "    mel_db = (librosa.power_to_db(mel_spec, ref=np.max))\n",
    "\n",
    "    return (mel_db).T\n",
    "\n",
    "def load_audio_file(file_path, input_length=input_length):\n",
    "    data = librosa.core.load(file_path, sr=29000)[0] #, sr=16000\n",
    "    if len(data)>input_length:\n",
    "        \n",
    "        \n",
    "        max_offset = len(data)-input_length\n",
    "        \n",
    "        offset = np.random.randint(max_offset)\n",
    "        \n",
    "        data = data[offset:(input_length+offset)]\n",
    "        \n",
    "        \n",
    "    else:\n",
    "        if input_length > len(data):\n",
    "            max_offset = input_length - len(data)\n",
    "\n",
    "            offset = np.random.randint(max_offset)\n",
    "        else:\n",
    "            offset = 0\n",
    "        \n",
    "        \n",
    "        data = np.pad(data, (offset, input_length - len(data) - offset), \"constant\")\n",
    "        \n",
    "\n",
    "    data = preprocess_audio_mel_T(data)\n",
    "    return data\n",
    "\n",
    "def chunker(seq, size):\n",
    "    return (seq[pos:pos + size] for pos in range(0, len(seq), size))\n",
    "\n",
    "def train_generator(list_files, batch_size=batch_size):\n",
    "    while True:\n",
    "        shuffle(list_files)\n",
    "        for batch_files in chunker(list_files, size=batch_size):\n",
    "            batch_data = [load_audio_file(fpath) for fpath in batch_files]\n",
    "            batch_data = np.array(batch_data)[:, :, :,np.newaxis]\n",
    "            batch_labels = [file_to_int[fpath] for fpath in batch_files]\n",
    "            batch_labels = np.array(batch_labels)\n",
    "            \n",
    "            yield batch_data, batch_labels"
   ]
  },
  {
   "cell_type": "code",
   "execution_count": 24,
   "metadata": {},
   "outputs": [],
   "source": [
    "train_files = glob.glob('/home/camilo/Documents/covid-tos/dataset/test_covid/train/completa/*.wav')\n",
    "train_labels = pd.read_csv('../../metadata/dataset_train_covid_test.csv')\n",
    "file_to_label = {'/home/camilo/Documents/covid-tos/dataset/test_covid/train/completa/' + k:v for k,v in zip(train_labels.filename.values, train_labels.category.values)}\n",
    "list_labels = sorted(list(set(train_labels.category.values)))\n",
    "label_to_int = {k:v for v,k in enumerate(list_labels)}\n",
    "int_to_label = {v:k for k,v in label_to_int.items()}\n",
    "file_to_int = {k:label_to_int[v] for k,v in file_to_label.items()}\n",
    "nclass = len(list_labels)\n",
    "tr_files, val_files = train_test_split(sorted(train_files), test_size=0.1, random_state=42)"
   ]
  },
  {
   "cell_type": "code",
   "execution_count": 25,
   "metadata": {},
   "outputs": [
    {
     "data": {
      "text/plain": [
       "(284, 500)"
      ]
     },
     "execution_count": 25,
     "metadata": {},
     "output_type": "execute_result"
    }
   ],
   "source": [
    "(load_audio_file(tr_files[0])).shape"
   ]
  },
  {
   "cell_type": "code",
   "execution_count": 28,
   "metadata": {},
   "outputs": [],
   "source": [
    "def get_model_mel():\n",
    "    nclass = len(list_labels)\n",
    "    inp = Input(shape=(284, 500, 1))\n",
    "    norm_inp = BatchNormalization()(inp)\n",
    "    img_1 = MaxPooling2D(pool_size=(2, 2))(norm_inp)\n",
    "    img_1 = Convolution2D(20, kernel_size=(3, 2), activation=activations.relu)(img_1)\n",
    "    img_1 = Convolution2D(20, kernel_size=(3, 2), activation=activations.relu)(img_1)\n",
    "    img_1 = MaxPooling2D(pool_size=(2, 2))(img_1)\n",
    "    img_1= Dropout(rate=0.15)(img_1)\n",
    "    img_1 = Convolution2D(20, kernel_size=(3, 2), activation=activations.relu)(img_1)\n",
    "    img_1 = Convolution2D(20, kernel_size=(3, 2), activation=activations.relu)(img_1)\n",
    "    img_1 = MaxPooling2D(pool_size=(2, 2))(img_1)\n",
    "    img_1= Dropout(rate=0.15)(img_1)\n",
    "\n",
    "    img_1 = Flatten()(img_1)\n",
    "    \n",
    "    dense_1 = Dense(256, activation=activations.relu)(img_1)\n",
    "    dense_1= Dropout(rate=0.15)(dense_1)\n",
    "    \n",
    "    predictions = Dense(nclass, activation=activations.softmax)(dense_1)\n",
    "\n",
    "    model = models.Model(inputs=inp, outputs=predictions)\n",
    "    opt = optimizers.Adam()\n",
    "\n",
    "    model.compile(optimizer=opt, loss=losses.sparse_categorical_crossentropy, metrics=['acc'])\n",
    "    model.summary()\n",
    "    return model"
   ]
  },
  {
   "cell_type": "code",
   "execution_count": 29,
   "metadata": {},
   "outputs": [
    {
     "name": "stdout",
     "output_type": "stream",
     "text": [
      "Model: \"functional_5\"\n",
      "_________________________________________________________________\n",
      "Layer (type)                 Output Shape              Param #   \n",
      "=================================================================\n",
      "input_3 (InputLayer)         [(None, 284, 500, 1)]     0         \n",
      "_________________________________________________________________\n",
      "batch_normalization_2 (Batch (None, 284, 500, 1)       4         \n",
      "_________________________________________________________________\n",
      "max_pooling2d_6 (MaxPooling2 (None, 142, 250, 1)       0         \n",
      "_________________________________________________________________\n",
      "conv2d_8 (Conv2D)            (None, 140, 249, 20)      140       \n",
      "_________________________________________________________________\n",
      "conv2d_9 (Conv2D)            (None, 138, 248, 20)      2420      \n",
      "_________________________________________________________________\n",
      "max_pooling2d_7 (MaxPooling2 (None, 69, 124, 20)       0         \n",
      "_________________________________________________________________\n",
      "dropout_6 (Dropout)          (None, 69, 124, 20)       0         \n",
      "_________________________________________________________________\n",
      "conv2d_10 (Conv2D)           (None, 67, 123, 20)       2420      \n",
      "_________________________________________________________________\n",
      "conv2d_11 (Conv2D)           (None, 65, 122, 20)       2420      \n",
      "_________________________________________________________________\n",
      "max_pooling2d_8 (MaxPooling2 (None, 32, 61, 20)        0         \n",
      "_________________________________________________________________\n",
      "dropout_7 (Dropout)          (None, 32, 61, 20)        0         \n",
      "_________________________________________________________________\n",
      "flatten_2 (Flatten)          (None, 39040)             0         \n",
      "_________________________________________________________________\n",
      "dense_4 (Dense)              (None, 256)               9994496   \n",
      "_________________________________________________________________\n",
      "dropout_8 (Dropout)          (None, 256)               0         \n",
      "_________________________________________________________________\n",
      "dense_5 (Dense)              (None, 2)                 514       \n",
      "=================================================================\n",
      "Total params: 10,002,414\n",
      "Trainable params: 10,002,412\n",
      "Non-trainable params: 2\n",
      "_________________________________________________________________\n"
     ]
    }
   ],
   "source": [
    "model=get_model_mel()"
   ]
  },
  {
   "cell_type": "code",
   "execution_count": 30,
   "metadata": {},
   "outputs": [
    {
     "name": "stdout",
     "output_type": "stream",
     "text": [
      "Epoch 1/30\n",
      "7/7 [==============================] - 35s 5s/step - loss: 3.2034 - acc: 0.4571\n",
      "Epoch 2/30\n",
      "7/7 [==============================] - 32s 5s/step - loss: 0.6904 - acc: 0.5520\n",
      "Epoch 3/30\n",
      "7/7 [==============================] - 28s 4s/step - loss: 0.6732 - acc: 0.5600\n",
      "Epoch 4/30\n",
      "7/7 [==============================] - 25s 4s/step - loss: 0.6317 - acc: 0.6800\n",
      "Epoch 5/30\n",
      "7/7 [==============================] - 28s 4s/step - loss: 0.5799 - acc: 0.7760\n",
      "Epoch 6/30\n",
      "7/7 [==============================] - 26s 4s/step - loss: 0.5520 - acc: 0.7360\n",
      "Epoch 7/30\n",
      "7/7 [==============================] - 29s 4s/step - loss: 0.5893 - acc: 0.6800\n",
      "Epoch 8/30\n",
      "7/7 [==============================] - 29s 4s/step - loss: 0.5495 - acc: 0.7120\n",
      "Epoch 9/30\n",
      "7/7 [==============================] - 36s 5s/step - loss: 0.5183 - acc: 0.7143\n",
      "Epoch 10/30\n",
      "7/7 [==============================] - 42s 6s/step - loss: 0.5055 - acc: 0.7120\n",
      "Epoch 11/30\n",
      "7/7 [==============================] - 36s 5s/step - loss: 0.4699 - acc: 0.7520\n",
      "Epoch 12/30\n",
      "7/7 [==============================] - 36s 5s/step - loss: 0.4726 - acc: 0.7520\n",
      "Epoch 13/30\n",
      "7/7 [==============================] - 35s 5s/step - loss: 0.4326 - acc: 0.7760\n",
      "Epoch 14/30\n",
      "7/7 [==============================] - 35s 5s/step - loss: 0.4479 - acc: 0.7600\n",
      "Epoch 15/30\n",
      "7/7 [==============================] - 37s 5s/step - loss: 0.4528 - acc: 0.7760\n",
      "Epoch 16/30\n",
      "7/7 [==============================] - 37s 5s/step - loss: 0.3994 - acc: 0.8240\n",
      "Epoch 17/30\n",
      "7/7 [==============================] - 29s 4s/step - loss: 0.4157 - acc: 0.8143\n",
      "Epoch 18/30\n",
      "7/7 [==============================] - 23s 3s/step - loss: 0.3507 - acc: 0.8160\n",
      "Epoch 19/30\n",
      "7/7 [==============================] - 19s 3s/step - loss: 0.3978 - acc: 0.8080\n",
      "Epoch 20/30\n",
      "7/7 [==============================] - 21s 3s/step - loss: 0.4056 - acc: 0.7760\n",
      "Epoch 21/30\n",
      "7/7 [==============================] - 18s 3s/step - loss: 0.4487 - acc: 0.7760\n",
      "Epoch 22/30\n",
      "7/7 [==============================] - 19s 3s/step - loss: 0.3799 - acc: 0.8400\n",
      "Epoch 23/30\n",
      "7/7 [==============================] - 19s 3s/step - loss: 0.3913 - acc: 0.8160\n",
      "Epoch 24/30\n",
      "7/7 [==============================] - 19s 3s/step - loss: 0.3765 - acc: 0.8080\n",
      "Epoch 25/30\n",
      "7/7 [==============================] - 23s 3s/step - loss: 0.4114 - acc: 0.8429\n",
      "Epoch 26/30\n",
      "7/7 [==============================] - 23s 3s/step - loss: 0.3330 - acc: 0.8720\n",
      "Epoch 27/30\n",
      "7/7 [==============================] - 19s 3s/step - loss: 0.3922 - acc: 0.8320\n",
      "Epoch 28/30\n",
      "7/7 [==============================] - 20s 3s/step - loss: 0.3253 - acc: 0.8560\n",
      "Epoch 29/30\n",
      "7/7 [==============================] - 20s 3s/step - loss: 0.3896 - acc: 0.7840\n",
      "Epoch 30/30\n",
      "7/7 [==============================] - 19s 3s/step - loss: 0.3966 - acc: 0.7840\n"
     ]
    },
    {
     "data": {
      "text/plain": [
       "<tensorflow.python.keras.callbacks.History at 0x7f2a1c57b310>"
      ]
     },
     "execution_count": 30,
     "metadata": {},
     "output_type": "execute_result"
    }
   ],
   "source": [
    "model.fit_generator(train_generator(tr_files),\n",
    "                    steps_per_epoch=len(tr_files)//batch_size, \n",
    "                    epochs=30,\n",
    "                    validation_data=train_generator(val_files),\n",
    "                    validation_steps=len(val_files)//batch_size\n",
    "                   )"
   ]
  },
  {
   "cell_type": "code",
   "execution_count": 31,
   "metadata": {},
   "outputs": [],
   "source": [
    "test_label=pd.read_csv('../../metadata/dataset_test_covid_test.csv')\n",
    "test_files = glob.glob('/home/camilo/Documents/covid-tos/dataset/test_covid/test/completa/*.wav')"
   ]
  },
  {
   "cell_type": "code",
   "execution_count": 32,
   "metadata": {},
   "outputs": [],
   "source": [
    "batch_data = [load_audio_file(fpath) for fpath in test_files]\n",
    "batch_data = np.array(batch_data)[:, :, :,np.newaxis]\n",
    "preds = model.predict(batch_data).tolist()\n",
    "predict_select=[ int_to_label[np.argmax(i) ]  for  i  in  preds ]"
   ]
  },
  {
   "cell_type": "code",
   "execution_count": 33,
   "metadata": {},
   "outputs": [
    {
     "data": {
      "text/plain": [
       "['no_covid',\n",
       " 'no_covid',\n",
       " 'no_covid',\n",
       " 'no_covid',\n",
       " 'no_covid',\n",
       " 'no_covid',\n",
       " 'no_covid',\n",
       " 'no_covid',\n",
       " 'covid',\n",
       " 'covid',\n",
       " 'no_covid',\n",
       " 'no_covid',\n",
       " 'covid',\n",
       " 'no_covid',\n",
       " 'covid',\n",
       " 'no_covid',\n",
       " 'no_covid',\n",
       " 'no_covid',\n",
       " 'no_covid']"
      ]
     },
     "execution_count": 33,
     "metadata": {},
     "output_type": "execute_result"
    }
   ],
   "source": [
    "predict_select"
   ]
  },
  {
   "cell_type": "code",
   "execution_count": 34,
   "metadata": {},
   "outputs": [
    {
     "data": {
      "text/plain": [
       "0        covid\n",
       "1        covid\n",
       "2        covid\n",
       "3        covid\n",
       "4        covid\n",
       "5        covid\n",
       "6        covid\n",
       "7        covid\n",
       "8        covid\n",
       "9        covid\n",
       "10    no_covid\n",
       "11    no_covid\n",
       "12    no_covid\n",
       "13    no_covid\n",
       "14    no_covid\n",
       "15    no_covid\n",
       "16    no_covid\n",
       "17    no_covid\n",
       "18    no_covid\n",
       "Name: category, dtype: object"
      ]
     },
     "execution_count": 34,
     "metadata": {},
     "output_type": "execute_result"
    }
   ],
   "source": [
    "test_label.category"
   ]
  },
  {
   "cell_type": "code",
   "execution_count": 35,
   "metadata": {},
   "outputs": [
    {
     "data": {
      "text/plain": [
       "array([[2, 8],\n",
       "       [2, 7]])"
      ]
     },
     "metadata": {},
     "output_type": "display_data"
    }
   ],
   "source": [
    "cm=confusion_matrix(test_label.category,predict_select)\n",
    "display(cm)\n",
    "TN,FP,FN,TP = cm.ravel()\n",
    "recall=TP/(TP+FN)\n",
    "precision=TP/(TP +FP)"
   ]
  }
 ],
 "metadata": {
  "kernelspec": {
   "display_name": "Python 3",
   "language": "python",
   "name": "python3"
  },
  "language_info": {
   "codemirror_mode": {
    "name": "ipython",
    "version": 3
   },
   "file_extension": ".py",
   "mimetype": "text/x-python",
   "name": "python",
   "nbconvert_exporter": "python",
   "pygments_lexer": "ipython3",
   "version": "3.7.7"
  }
 },
 "nbformat": 4,
 "nbformat_minor": 4
}
