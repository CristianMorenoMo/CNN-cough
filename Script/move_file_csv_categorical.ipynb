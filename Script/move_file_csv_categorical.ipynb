{
 "cells": [
  {
   "cell_type": "code",
   "execution_count": 1,
   "metadata": {},
   "outputs": [],
   "source": [
    "import pandas as pd\n",
    "import numpy as np\n",
    "import glob\n",
    "import shutil\n",
    "import os"
   ]
  },
  {
   "cell_type": "code",
   "execution_count": 2,
   "metadata": {},
   "outputs": [],
   "source": [
    "def move_file(path,path_move,list_file):\n",
    "    ''' \n",
    "    path= origin dir path where you have your files\n",
    "    path_move= path dir  where you want to  move your files\n",
    "    list_file= list of file that you want to move your files\n",
    "    '''\n",
    "    for f in list_file:\n",
    "        shutil.copy(path+f, path_move)\n",
    "\n",
    "def name(x):\n",
    "    ''' \n",
    "    x=name of categorical (str)\n",
    "    '''\n",
    "    if x== 'coughing':\n",
    "        return 'coughing'\n",
    "    else:\n",
    "        return 'no_coughing'\n"
   ]
  },
  {
   "cell_type": "code",
   "execution_count": 11,
   "metadata": {
    "scrolled": true
   },
   "outputs": [],
   "source": [
    "filename=esc50_labels[esc50_labels.category=='coughing']['filename']\n",
    "move_file('../dataset/audio_ESC-50/',\n",
    "          '../dataset/cough_esc50',\n",
    "          list(filename))"
   ]
  },
  {
   "cell_type": "code",
   "execution_count": null,
   "metadata": {},
   "outputs": [],
   "source": []
  },
  {
   "cell_type": "code",
   "execution_count": 3,
   "metadata": {},
   "outputs": [],
   "source": [
    "esc50_labels = pd.read_csv(\"../dataset/esc50.csv\")\n",
    "category=['airplane','breathing','brushing_teeth','cat','crackling_fire','crying_baby','door_wood_creaks',\n",
    "          'door_wood_knock','engine','glass_breaking','insects','pouring_water','rain','sneezing','snoring',\n",
    "          'water_drops','wind','crickets','sea_waves']\n",
    "cougth_negative=glob.glob('../dataset/cougth/negative/*.wav')\n",
    "cougth_positive=glob.glob('../dataset/cougth/positive/*.wav')\n",
    "cougth_bank=glob.glob('../dataset/cougth/tos_bank_cnv/*.wav')"
   ]
  },
  {
   "cell_type": "code",
   "execution_count": 4,
   "metadata": {},
   "outputs": [],
   "source": [
    "####\n",
    "tos_negative=pd.DataFrame()\n",
    "tos_bank=pd.DataFrame()\n",
    "tos_positive=pd.DataFrame()\n",
    "####\n",
    "tos_negative['filename']=[x.split('/')[4] for x in cougth_negative]\n",
    "tos_negative['category']='coughing'\n",
    "####\n",
    "tos_positive['filename']=[x.split('/')[4] for x in cougth_positive]\n",
    "tos_positive['category']='coughing'\n",
    "####\n",
    "tos_bank['filename']=[x.split('/')[4] for x in cougth_bank]\n",
    "tos_bank['category']='coughing'\n",
    "cough=pd.concat([tos_negative,tos_positive,tos_bank],axis=0)\n",
    "####\n",
    "#size_sample_test=15\n",
    "#size_sample= len(cough) - size_sample_test\n",
    "####\n",
    "cough_sample_train=cough[cough.filename.isin(cough.filename.sample(150))]\n",
    "cough_sample_train=(cough_sample_train.reset_index())[['filename', 'category']]\n",
    "# Move file\n",
    "move_file('../dataset/audio_ESC-50/',\n",
    "          '../dataset/dataset_train_CNN_sigmo',\n",
    "          list(cough_sample_train.filename))"
   ]
  },
  {
   "cell_type": "code",
   "execution_count": 7,
   "metadata": {},
   "outputs": [],
   "source": [
    "### cough_sample_test\n",
    "cough_sample_test=cough[np.logical_not(cough.filename.isin(cough_sample_train.filename))]\n",
    "cough_sample_test=cough_sample_test.sample(15)\n",
    "#cough_sample_test=cough[np.logical_not(cough.filename.isin(cough_sample_train.filename))]\n",
    "move_file('../dataset/audio_ESC-50/',\n",
    "          '../dataset/dataset_test_CNN_sigmo',\n",
    "          list(cough_sample_test.filename))\n",
    "\n",
    "##cough_sample_test\n",
    "##cough_sample_train"
   ]
  },
  {
   "cell_type": "code",
   "execution_count": null,
   "metadata": {},
   "outputs": [],
   "source": [
    "### no caugh"
   ]
  },
  {
   "cell_type": "code",
   "execution_count": 10,
   "metadata": {},
   "outputs": [],
   "source": [
    "size_nocough=int(round(150/len(category),0))"
   ]
  },
  {
   "cell_type": "code",
   "execution_count": 11,
   "metadata": {},
   "outputs": [],
   "source": [
    "#size_nocough=int(round(size_sample/len(category),0))\n",
    "no_cough=esc50_labels[esc50_labels.category.isin(category)][['filename','category']]\n",
    "no_cough_sample_train=no_cough.groupby('category')['filename'].apply(lambda s: s.sample(size_nocough))\n",
    "no_cough_sample_train=(no_cough_sample_train.reset_index())[['filename', 'category']]\n",
    "\n",
    "move_file('../dataset/audio_ESC-50/',\n",
    "          '../dataset/dataset_train_CNN_sigmo',\n",
    "          list(no_cough_sample_train.filename))\n"
   ]
  },
  {
   "cell_type": "code",
   "execution_count": 12,
   "metadata": {},
   "outputs": [],
   "source": [
    "no_cough_nosample=no_cough[np.logical_not(no_cough.filename.isin(no_cough_sample_train))]\n",
    "size_nocough_test=int(round(len(cough_sample_test)/len(category),0))\n",
    "no_cough_sample_test=no_cough_nosample.groupby('category')['filename'].apply(lambda s: s.sample(size_nocough_test))\n",
    "no_cough_sample_test=(no_cough_sample_test.reset_index())[['filename', 'category']]\n",
    "\n",
    "move_file('../dataset/audio_ESC-50/',\n",
    "          '../dataset/dataset_test_CNN_sigmo',\n",
    "          list(no_cough_sample_test.filename))\n",
    "### no_cough_sample_train\n",
    "### no_cough_sample_test"
   ]
  },
  {
   "cell_type": "code",
   "execution_count": 13,
   "metadata": {},
   "outputs": [],
   "source": [
    "### csv train\n",
    "csv_train_data=cough_sample_train.append(no_cough_sample_train)\n",
    "csv_train_data['target']=csv_train_data.category.apply(name)\n",
    "csv_train_data.to_csv('../metadata/dataset_train_cnn.csv',index=False)\n",
    "### csv test\n",
    "csv_test_data=no_cough_sample_test.append(cough_sample_test)\n",
    "csv_test_data['target']=csv_test_data.category.apply(name)\n",
    "csv_test_data.to_csv('../metadata/dataset_test_cnn.csv',index=False)"
   ]
  }
 ],
 "metadata": {
  "kernelspec": {
   "display_name": "Python 3",
   "language": "python",
   "name": "python3"
  },
  "language_info": {
   "codemirror_mode": {
    "name": "ipython",
    "version": 3
   },
   "file_extension": ".py",
   "mimetype": "text/x-python",
   "name": "python",
   "nbconvert_exporter": "python",
   "pygments_lexer": "ipython3",
   "version": "3.7.7"
  }
 },
 "nbformat": 4,
 "nbformat_minor": 4
}
