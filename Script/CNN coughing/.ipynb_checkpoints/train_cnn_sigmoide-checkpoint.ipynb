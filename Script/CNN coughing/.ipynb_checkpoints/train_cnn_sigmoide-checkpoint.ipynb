{
 "cells": [
  {
   "cell_type": "code",
   "execution_count": 1,
   "metadata": {},
   "outputs": [
    {
     "name": "stderr",
     "output_type": "stream",
     "text": [
      "/home/camilo/anaconda3/envs/R/lib/python3.7/site-packages/librosa/util/decorators.py:9: NumbaDeprecationWarning: An import was requested from a module that has moved location.\n",
      "Import requested from: 'numba.decorators', please update to use 'numba.core.decorators' or pin to Numba version 0.48.0. This alias will not be present in Numba version 0.50.0.\n",
      "  from numba.decorators import jit as optional_jit\n",
      "/home/camilo/anaconda3/envs/R/lib/python3.7/site-packages/librosa/util/decorators.py:9: NumbaDeprecationWarning: An import was requested from a module that has moved location.\n",
      "Import of 'jit' requested from: 'numba.decorators', please update to use 'numba.core.decorators' or pin to Numba version 0.48.0. This alias will not be present in Numba version 0.50.0.\n",
      "  from numba.decorators import jit as optional_jit\n"
     ]
    }
   ],
   "source": [
    "import librosa\n",
    "import numpy as np \n",
    "import matplotlib.pyplot as plt\n",
    "import os\n",
    "import glob\n",
    "import pandas as pd\n",
    "from tensorflow.python.keras.models import Sequential\n",
    "from sklearn.model_selection import train_test_split\n",
    "from keras.layers import Dense, Input, Dropout, BatchNormalization, Convolution2D, MaxPooling2D, GlobalMaxPool2D,Flatten\n",
    "from keras import optimizers, losses, activations, models\n",
    "from keras.callbacks import ModelCheckpoint, EarlyStopping\n",
    "from random import shuffle\n",
    "from sklearn.metrics import confusion_matrix"
   ]
  },
  {
   "cell_type": "code",
   "execution_count": 2,
   "metadata": {},
   "outputs": [],
   "source": [
    "######################\n",
    "input_length = 29000*5\n",
    "batch_size = 8\n",
    "n_mels = 500\n",
    "validation_steps = 10\n",
    "######################"
   ]
  },
  {
   "cell_type": "code",
   "execution_count": 3,
   "metadata": {},
   "outputs": [],
   "source": [
    "def preprocess_audio_mel_T(audio, sample_rate=29000, window_size=4, #log_specgram\n",
    "                 step_size=10, eps=1e-10):\n",
    "\n",
    "    mel_spec = librosa.feature.melspectrogram(y=audio, sr=sample_rate, n_mels= n_mels)\n",
    "    mel_db = (librosa.power_to_db(mel_spec, ref=np.max))\n",
    "\n",
    "    return (mel_db).T\n",
    "\n",
    "def load_audio_file(file_path, input_length=input_length):\n",
    "    data = librosa.core.load(file_path, sr=29000)[0] #, sr=16000\n",
    "    if len(data)>input_length:\n",
    "        \n",
    "        \n",
    "        max_offset = len(data)-input_length\n",
    "        \n",
    "        offset = np.random.randint(max_offset)\n",
    "        \n",
    "        data = data[offset:(input_length+offset)]\n",
    "        \n",
    "        \n",
    "    else:\n",
    "        if input_length > len(data):\n",
    "            max_offset = input_length - len(data)\n",
    "\n",
    "            offset = np.random.randint(max_offset)\n",
    "        else:\n",
    "            offset = 0\n",
    "        \n",
    "        \n",
    "        data = np.pad(data, (offset, input_length - len(data) - offset), \"constant\")\n",
    "        \n",
    "        \n",
    "    data = preprocess_audio_mel_T(data)\n",
    "    return data\n",
    "\n",
    "def chunker(seq, size):\n",
    "    return (seq[pos:pos + size] for pos in range(0, len(seq), size))\n",
    "\n",
    "def train_generator(list_files, batch_size=batch_size):\n",
    "    while True:\n",
    "        shuffle(list_files)\n",
    "        for batch_files in chunker(list_files, size=batch_size):\n",
    "            batch_data = [load_audio_file(fpath) for fpath in batch_files]\n",
    "            batch_data = np.array(batch_data)[:, :, :,np.newaxis]\n",
    "            batch_labels = [file_to_int[fpath] for fpath in batch_files]\n",
    "            batch_labels = np.array(batch_labels)\n",
    "            \n",
    "            yield batch_data, batch_labels\n",
    "        "
   ]
  },
  {
   "cell_type": "code",
   "execution_count": 9,
   "metadata": {
    "scrolled": true
   },
   "outputs": [],
   "source": [
    "train_files = glob.glob('/home/camilo/Documents/covid-tos/dataset/test/train/*.wav')\n",
    "train_labels = pd.read_csv('../../metadata/dataset_train_cnn_test.csv')\n",
    "file_to_label = {'/home/camilo/Documents/covid-tos/dataset/test/train/' + k:v for k,v in zip(train_labels.filename.values, train_labels.category.values)}\n",
    "list_labels = sorted(list(set(train_labels.category.values)))\n",
    "label_to_int = {k:v for v,k in enumerate(list_labels)}\n",
    "int_to_label = {v:k for k,v in label_to_int.items()}\n",
    "file_to_int = {k:label_to_int[v] for k,v in file_to_label.items()}\n",
    "nclass = len(list_labels)\n",
    "tr_files, val_files = train_test_split(sorted(train_files), test_size=0.1, random_state=42)"
   ]
  },
  {
   "cell_type": "code",
   "execution_count": 10,
   "metadata": {},
   "outputs": [
    {
     "data": {
      "text/plain": [
       "(284, 500)"
      ]
     },
     "execution_count": 10,
     "metadata": {},
     "output_type": "execute_result"
    }
   ],
   "source": [
    "(load_audio_file(tr_files[0])).shape"
   ]
  },
  {
   "cell_type": "code",
   "execution_count": 11,
   "metadata": {},
   "outputs": [],
   "source": [
    "def get_model_mel():\n",
    "    nclass = len(list_labels)\n",
    "    inp = Input(shape=(284, 500, 1))\n",
    "    norm_inp = BatchNormalization()(inp)\n",
    "    img_1 = MaxPooling2D(pool_size=(2, 2))(norm_inp)\n",
    "    img_1 = Convolution2D(18, kernel_size=(5, 5), activation=activations.relu)(img_1)\n",
    "    img_1 = MaxPooling2D(pool_size=(4, 4))(img_1)\n",
    "    img_1 = Convolution2D(18, kernel_size=(5, 5), activation=activations.relu)(img_1)\n",
    "    img_1 = MaxPooling2D(pool_size=(2, 2))(img_1)\n",
    "    img_1 = Flatten()(img_1)\n",
    "\n",
    "    dense_1 = Dense(128, activation=activations.relu)(img_1)\n",
    "    dense_1= Dropout(rate=0.5)(dense_1)\n",
    "    dense_1 = Dense(128, activation=activations.relu)(dense_1)\n",
    "    dense_1= Dropout(rate=0.5)(dense_1)\n",
    "    predictions = Dense(nclass, activation=activations.softmax)(dense_1)\n",
    "\n",
    "    model = models.Model(inputs=inp, outputs=predictions)\n",
    "    opt = optimizers.Adam()\n",
    "\n",
    "    model.compile(optimizer=opt, loss=losses.sparse_categorical_crossentropy, metrics=['acc'])\n",
    "    model.summary()\n",
    "    return model"
   ]
  },
  {
   "cell_type": "code",
   "execution_count": 12,
   "metadata": {},
   "outputs": [
    {
     "name": "stdout",
     "output_type": "stream",
     "text": [
      "Model: \"functional_3\"\n",
      "_________________________________________________________________\n",
      "Layer (type)                 Output Shape              Param #   \n",
      "=================================================================\n",
      "input_2 (InputLayer)         [(None, 284, 500, 1)]     0         \n",
      "_________________________________________________________________\n",
      "batch_normalization_1 (Batch (None, 284, 500, 1)       4         \n",
      "_________________________________________________________________\n",
      "max_pooling2d_3 (MaxPooling2 (None, 142, 250, 1)       0         \n",
      "_________________________________________________________________\n",
      "conv2d_2 (Conv2D)            (None, 138, 246, 18)      468       \n",
      "_________________________________________________________________\n",
      "max_pooling2d_4 (MaxPooling2 (None, 34, 61, 18)        0         \n",
      "_________________________________________________________________\n",
      "conv2d_3 (Conv2D)            (None, 30, 57, 18)        8118      \n",
      "_________________________________________________________________\n",
      "max_pooling2d_5 (MaxPooling2 (None, 15, 28, 18)        0         \n",
      "_________________________________________________________________\n",
      "flatten_1 (Flatten)          (None, 7560)              0         \n",
      "_________________________________________________________________\n",
      "dense_3 (Dense)              (None, 128)               967808    \n",
      "_________________________________________________________________\n",
      "dropout_2 (Dropout)          (None, 128)               0         \n",
      "_________________________________________________________________\n",
      "dense_4 (Dense)              (None, 128)               16512     \n",
      "_________________________________________________________________\n",
      "dropout_3 (Dropout)          (None, 128)               0         \n",
      "_________________________________________________________________\n",
      "dense_5 (Dense)              (None, 2)                 258       \n",
      "=================================================================\n",
      "Total params: 993,168\n",
      "Trainable params: 993,166\n",
      "Non-trainable params: 2\n",
      "_________________________________________________________________\n"
     ]
    }
   ],
   "source": [
    "model=get_model_mel()"
   ]
  },
  {
   "cell_type": "code",
   "execution_count": null,
   "metadata": {
    "scrolled": true
   },
   "outputs": [
    {
     "name": "stdout",
     "output_type": "stream",
     "text": [
      "Epoch 1/20\n",
      "6/9 [===================>..........] - ETA: 3s - loss: 0.8420 - acc: 0.4583"
     ]
    }
   ],
   "source": [
    "model.fit_generator(train_generator(tr_files),\n",
    "                    steps_per_epoch=len(tr_files)//batch_size, \n",
    "                    epochs=20,\n",
    "                    validation_data=train_generator(val_files),\n",
    "                    validation_steps=len(val_files)//batch_size\n",
    "                   )"
   ]
  },
  {
   "cell_type": "code",
   "execution_count": null,
   "metadata": {},
   "outputs": [],
   "source": [
    "test_label=pd.read_csv('../../metadata/dataset_test_cnn_test.csv')\n",
    "test_files = glob.glob('../../dataset/test/test_data/*.wav')"
   ]
  },
  {
   "cell_type": "code",
   "execution_count": null,
   "metadata": {},
   "outputs": [],
   "source": [
    "batch_data = [load_audio_file(fpath) for fpath in test_files]\n",
    "batch_data = np.array(batch_data)[:, :, :,np.newaxis]\n",
    "preds = model.predict(batch_data).tolist()\n",
    "predict_select=[ int_to_label[np.argmax(i) ]  for  i  in  preds ]"
   ]
  },
  {
   "cell_type": "code",
   "execution_count": null,
   "metadata": {},
   "outputs": [],
   "source": [
    "cm=confusion_matrix(test_label.category,predict_select)\n",
    "display(cm)\n",
    "TN,FP,FN,TP = cm.ravel()\n",
    "recall=TP/(TP+FN)\n",
    "precision=TP/(TP +FP)"
   ]
  },
  {
   "cell_type": "code",
   "execution_count": null,
   "metadata": {},
   "outputs": [],
   "source": [
    "cm=confusion_matrix(test_label.category,predict_select)\n",
    "display(cm)\n",
    "TN,FP,FN,TP = cm.ravel()\n",
    "recall=TP/(TP+FN)\n",
    "precision=TP/(TP +FP)\n",
    "accuracy=(TP+TN)/(TP+TN+FP+FN)\n",
    "specifity=TN/(TN+FP)\n",
    "FI_score=2 * (precision*recall / (precision + recall))\n",
    "print('recall = ' + str(recall))\n",
    "print('precision = ' +str(precision))\n",
    "print('accuracy =' + str(accuracy))\n",
    "print('specifity= ' +str(specifity))\n",
    "print('FI_score =' + str(FI_score))"
   ]
  }
 ],
 "metadata": {
  "kernelspec": {
   "display_name": "Python 3",
   "language": "python",
   "name": "python3"
  },
  "language_info": {
   "codemirror_mode": {
    "name": "ipython",
    "version": 3
   },
   "file_extension": ".py",
   "mimetype": "text/x-python",
   "name": "python",
   "nbconvert_exporter": "python",
   "pygments_lexer": "ipython3",
   "version": "3.7.7"
  }
 },
 "nbformat": 4,
 "nbformat_minor": 4
}
