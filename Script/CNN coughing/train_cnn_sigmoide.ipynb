{
 "cells": [
  {
   "cell_type": "code",
   "execution_count": 1,
   "metadata": {},
   "outputs": [
    {
     "name": "stderr",
     "output_type": "stream",
     "text": [
      "/home/camilo/anaconda3/envs/R/lib/python3.7/site-packages/librosa/util/decorators.py:9: NumbaDeprecationWarning: An import was requested from a module that has moved location.\n",
      "Import requested from: 'numba.decorators', please update to use 'numba.core.decorators' or pin to Numba version 0.48.0. This alias will not be present in Numba version 0.50.0.\n",
      "  from numba.decorators import jit as optional_jit\n",
      "/home/camilo/anaconda3/envs/R/lib/python3.7/site-packages/librosa/util/decorators.py:9: NumbaDeprecationWarning: An import was requested from a module that has moved location.\n",
      "Import of 'jit' requested from: 'numba.decorators', please update to use 'numba.core.decorators' or pin to Numba version 0.48.0. This alias will not be present in Numba version 0.50.0.\n",
      "  from numba.decorators import jit as optional_jit\n",
      "/home/camilo/anaconda3/envs/R/lib/python3.7/site-packages/noisereduce/noisereduce.py:5: TqdmExperimentalWarning: Using `tqdm.autonotebook.tqdm` in notebook mode. Use `tqdm.tqdm` instead to force console mode (e.g. in jupyter console)\n",
      "  from tqdm.autonotebook import tqdm\n"
     ]
    }
   ],
   "source": [
    "import librosa\n",
    "import numpy as np \n",
    "import matplotlib.pyplot as plt\n",
    "import os\n",
    "import glob\n",
    "import pandas as pd\n",
    "from tensorflow.python.keras.models import Sequential\n",
    "from sklearn.model_selection import train_test_split\n",
    "from keras.layers import Dense, Input, Dropout, BatchNormalization, Convolution2D, MaxPooling2D, GlobalMaxPool2D,Flatten\n",
    "from keras import optimizers, losses, activations, models\n",
    "from keras.callbacks import ModelCheckpoint, EarlyStopping\n",
    "from random import shuffle\n",
    "from sklearn.metrics import confusion_matrix\n",
    "import noisereduce as nr"
   ]
  },
  {
   "cell_type": "code",
   "execution_count": 2,
   "metadata": {},
   "outputs": [],
   "source": [
    "######################\n",
    "input_length = 29000*5\n",
    "batch_size = 20\n",
    "n_mels = 500\n",
    "validation_steps = 10\n",
    "######################"
   ]
  },
  {
   "cell_type": "code",
   "execution_count": 3,
   "metadata": {},
   "outputs": [],
   "source": [
    "def preprocess_audio_mel_T(audio, sample_rate=29000, window_size=4, #log_specgram\n",
    "                 step_size=10, eps=1e-10):\n",
    "\n",
    "    mel_spec = librosa.feature.melspectrogram(y=audio, sr=sample_rate, n_mels= n_mels)\n",
    "    mel_db = (librosa.power_to_db(mel_spec, ref=np.max))\n",
    "\n",
    "    return (mel_db).T\n",
    "\n",
    "def load_audio_file(file_path, input_length=input_length):\n",
    "    data = librosa.core.load(file_path, sr=29000)[0] #, sr=16000\n",
    "    if len(data)>input_length:\n",
    "        \n",
    "        \n",
    "        max_offset = len(data)-input_length\n",
    "        \n",
    "        offset = np.random.randint(max_offset)\n",
    "        \n",
    "        data = data[offset:(input_length+offset)]\n",
    "        \n",
    "        \n",
    "    else:\n",
    "        if input_length > len(data):\n",
    "            max_offset = input_length - len(data)\n",
    "\n",
    "            offset = np.random.randint(max_offset)\n",
    "        else:\n",
    "            offset = 0\n",
    "        \n",
    "        \n",
    "        data = np.pad(data, (offset, input_length - len(data) - offset), \"constant\")\n",
    "        \n",
    "    noisy_part=data\n",
    "    noise_reduced = nr.reduce_noise(audio_clip=data, noise_clip=noisy_part) \n",
    "    data = preprocess_audio_mel_T(noise_reduced)\n",
    "    return data\n",
    "\n",
    "def chunker(seq, size):\n",
    "    return (seq[pos:pos + size] for pos in range(0, len(seq), size))\n",
    "\n",
    "def train_generator(list_files, batch_size=batch_size):\n",
    "    while True:\n",
    "        shuffle(list_files)\n",
    "        for batch_files in chunker(list_files, size=batch_size):\n",
    "            batch_data = [load_audio_file(fpath) for fpath in batch_files]\n",
    "            batch_data = np.array(batch_data)[:, :, :,np.newaxis]\n",
    "            batch_labels = [file_to_int[fpath] for fpath in batch_files]\n",
    "            batch_labels = np.array(batch_labels)\n",
    "            \n",
    "            yield batch_data, batch_labels\n",
    "        "
   ]
  },
  {
   "cell_type": "code",
   "execution_count": 4,
   "metadata": {
    "scrolled": true
   },
   "outputs": [],
   "source": [
    "train_files = glob.glob('/home/camilo/Documents/covid-tos/dataset/test/train/*.wav')\n",
    "train_labels = pd.read_csv('../../metadata/dataset_train_cnn_test.csv')\n",
    "file_to_label = {'/home/camilo/Documents/covid-tos/dataset/test/train/' + k:v for k,v in zip(train_labels.filename.values, train_labels.category.values)}\n",
    "list_labels = sorted(list(set(train_labels.category.values)))\n",
    "label_to_int = {k:v for v,k in enumerate(list_labels)}\n",
    "int_to_label = {v:k for k,v in label_to_int.items()}\n",
    "file_to_int = {k:label_to_int[v] for k,v in file_to_label.items()}\n",
    "nclass = len(list_labels)\n",
    "tr_files, val_files = train_test_split(sorted(train_files), test_size=0.1, random_state=42)"
   ]
  },
  {
   "cell_type": "code",
   "execution_count": 5,
   "metadata": {},
   "outputs": [
    {
     "data": {
      "text/plain": [
       "(284, 500)"
      ]
     },
     "execution_count": 5,
     "metadata": {},
     "output_type": "execute_result"
    }
   ],
   "source": [
    "(load_audio_file(tr_files[0])).shape"
   ]
  },
  {
   "cell_type": "code",
   "execution_count": 6,
   "metadata": {},
   "outputs": [],
   "source": [
    "def get_model_mel():\n",
    "    nclass = len(list_labels)\n",
    "    inp = Input(shape=(284, 500, 1))\n",
    "    norm_inp = BatchNormalization()(inp)\n",
    "    img_1 = MaxPooling2D(pool_size=(2, 2))(norm_inp)\n",
    "    img_1 = Convolution2D(50, kernel_size=(5, 5), activation=activations.relu)(img_1)\n",
    "    img_1 = MaxPooling2D(pool_size=(4, 4))(img_1)\n",
    "    img_1 = Convolution2D(50, kernel_size=(5, 5), activation=activations.relu)(img_1)\n",
    "    img_1 = MaxPooling2D(pool_size=(2, 2))(img_1)\n",
    "    img_1 = Flatten()(img_1)\n",
    "\n",
    "    dense_1 = Dense(128, activation=activations.relu)(img_1)\n",
    "    dense_1= Dropout(rate=0.5)(dense_1)\n",
    "    dense_1 = Dense(128, activation=activations.relu)(dense_1)\n",
    "    dense_1= Dropout(rate=0.5)(dense_1)\n",
    "    predictions = Dense(nclass, activation=activations.softmax)(dense_1)\n",
    "\n",
    "    model = models.Model(inputs=inp, outputs=predictions)\n",
    "    opt = optimizers.Adam()\n",
    "\n",
    "    model.compile(optimizer=opt, loss=losses.sparse_categorical_crossentropy, metrics=['acc'])\n",
    "    model.summary()\n",
    "    return model"
   ]
  },
  {
   "cell_type": "code",
   "execution_count": 7,
   "metadata": {},
   "outputs": [
    {
     "name": "stdout",
     "output_type": "stream",
     "text": [
      "Model: \"functional_1\"\n",
      "_________________________________________________________________\n",
      "Layer (type)                 Output Shape              Param #   \n",
      "=================================================================\n",
      "input_1 (InputLayer)         [(None, 284, 500, 1)]     0         \n",
      "_________________________________________________________________\n",
      "batch_normalization (BatchNo (None, 284, 500, 1)       4         \n",
      "_________________________________________________________________\n",
      "max_pooling2d (MaxPooling2D) (None, 142, 250, 1)       0         \n",
      "_________________________________________________________________\n",
      "conv2d (Conv2D)              (None, 138, 246, 50)      1300      \n",
      "_________________________________________________________________\n",
      "max_pooling2d_1 (MaxPooling2 (None, 34, 61, 50)        0         \n",
      "_________________________________________________________________\n",
      "conv2d_1 (Conv2D)            (None, 30, 57, 50)        62550     \n",
      "_________________________________________________________________\n",
      "max_pooling2d_2 (MaxPooling2 (None, 15, 28, 50)        0         \n",
      "_________________________________________________________________\n",
      "flatten (Flatten)            (None, 21000)             0         \n",
      "_________________________________________________________________\n",
      "dense (Dense)                (None, 128)               2688128   \n",
      "_________________________________________________________________\n",
      "dropout (Dropout)            (None, 128)               0         \n",
      "_________________________________________________________________\n",
      "dense_1 (Dense)              (None, 128)               16512     \n",
      "_________________________________________________________________\n",
      "dropout_1 (Dropout)          (None, 128)               0         \n",
      "_________________________________________________________________\n",
      "dense_2 (Dense)              (None, 2)                 258       \n",
      "=================================================================\n",
      "Total params: 2,768,752\n",
      "Trainable params: 2,768,750\n",
      "Non-trainable params: 2\n",
      "_________________________________________________________________\n"
     ]
    }
   ],
   "source": [
    "model=get_model_mel()"
   ]
  },
  {
   "cell_type": "code",
   "execution_count": 8,
   "metadata": {
    "scrolled": true
   },
   "outputs": [
    {
     "name": "stdout",
     "output_type": "stream",
     "text": [
      "WARNING:tensorflow:From <ipython-input-8-4e31b13aeb22>:5: Model.fit_generator (from tensorflow.python.keras.engine.training) is deprecated and will be removed in a future version.\n",
      "Instructions for updating:\n",
      "Please use Model.fit, which supports generators.\n",
      "Epoch 1/20\n"
     ]
    },
    {
     "name": "stderr",
     "output_type": "stream",
     "text": [
      "/home/camilo/anaconda3/envs/R/lib/python3.7/site-packages/librosa/core/spectrum.py:1620: RuntimeWarning: divide by zero encountered in log10\n",
      "  log_spec = 10.0 * np.log10(np.maximum(amin, magnitude))\n"
     ]
    },
    {
     "name": "stdout",
     "output_type": "stream",
     "text": [
      "3/3 [==============================] - 14s 5s/step - loss: 1.0475 - acc: 0.6167\n",
      "Epoch 2/20\n",
      "3/3 [==============================] - 11s 4s/step - loss: 0.7278 - acc: 0.5660\n",
      "Epoch 3/20\n",
      "3/3 [==============================] - 9s 3s/step - loss: 0.6852 - acc: 0.5472\n",
      "Epoch 4/20\n",
      "3/3 [==============================] - 9s 3s/step - loss: 0.6668 - acc: 0.5660\n",
      "Epoch 5/20\n",
      "3/3 [==============================] - 11s 4s/step - loss: 0.6030 - acc: 0.6833\n",
      "Epoch 6/20\n",
      "3/3 [==============================] - 11s 4s/step - loss: 0.6861 - acc: 0.5849\n",
      "Epoch 7/20\n",
      "3/3 [==============================] - 8s 3s/step - loss: 0.5666 - acc: 0.6981\n",
      "Epoch 8/20\n",
      "3/3 [==============================] - 10s 3s/step - loss: 0.6350 - acc: 0.6038\n",
      "Epoch 9/20\n",
      "3/3 [==============================] - 12s 4s/step - loss: 0.5862 - acc: 0.6000\n",
      "Epoch 10/20\n",
      "3/3 [==============================] - 11s 4s/step - loss: 0.5917 - acc: 0.6604\n",
      "Epoch 11/20\n",
      "3/3 [==============================] - 10s 3s/step - loss: 0.5668 - acc: 0.5660\n",
      "Epoch 12/20\n",
      "3/3 [==============================] - 9s 3s/step - loss: 0.5235 - acc: 0.6792\n",
      "Epoch 13/20\n",
      "3/3 [==============================] - 12s 4s/step - loss: 0.5060 - acc: 0.6500\n",
      "Epoch 14/20\n",
      "3/3 [==============================] - 11s 4s/step - loss: 0.4417 - acc: 0.7736\n",
      "Epoch 15/20\n",
      "3/3 [==============================] - 9s 3s/step - loss: 0.5143 - acc: 0.6604\n",
      "Epoch 16/20\n",
      "3/3 [==============================] - 9s 3s/step - loss: 0.4665 - acc: 0.7170\n",
      "Epoch 17/20\n",
      "3/3 [==============================] - 11s 4s/step - loss: 0.4790 - acc: 0.7333\n",
      "Epoch 18/20\n",
      "3/3 [==============================] - 12s 4s/step - loss: 0.4012 - acc: 0.7925\n",
      "Epoch 19/20\n",
      "3/3 [==============================] - 9s 3s/step - loss: 0.4750 - acc: 0.7736\n",
      "Epoch 20/20\n",
      "3/3 [==============================] - 9s 3s/step - loss: 0.5540 - acc: 0.7547\n"
     ]
    },
    {
     "data": {
      "text/plain": [
       "<tensorflow.python.keras.callbacks.History at 0x7f9748239f50>"
      ]
     },
     "execution_count": 8,
     "metadata": {},
     "output_type": "execute_result"
    }
   ],
   "source": [
    "model.fit_generator(train_generator(tr_files),\n",
    "                    steps_per_epoch=len(tr_files)//batch_size, \n",
    "                    epochs=20,\n",
    "                    validation_data=train_generator(val_files),\n",
    "                    validation_steps=len(val_files)//batch_size\n",
    "                   )"
   ]
  },
  {
   "cell_type": "code",
   "execution_count": 9,
   "metadata": {},
   "outputs": [],
   "source": [
    "test_label=pd.read_csv('../../metadata/dataset_test_cnn_test.csv')\n",
    "test_files = glob.glob('../../dataset/test/test_data/*.wav')"
   ]
  },
  {
   "cell_type": "code",
   "execution_count": 10,
   "metadata": {},
   "outputs": [],
   "source": [
    "batch_data = [load_audio_file(fpath) for fpath in test_files]\n",
    "batch_data = np.array(batch_data)[:, :, :,np.newaxis]\n",
    "preds = model.predict(batch_data).tolist()\n",
    "predict_select=[ int_to_label[np.argmax(i) ]  for  i  in  preds ]"
   ]
  },
  {
   "cell_type": "code",
   "execution_count": 14,
   "metadata": {},
   "outputs": [
    {
     "data": {
      "text/html": [
       "<div>\n",
       "<style scoped>\n",
       "    .dataframe tbody tr th:only-of-type {\n",
       "        vertical-align: middle;\n",
       "    }\n",
       "\n",
       "    .dataframe tbody tr th {\n",
       "        vertical-align: top;\n",
       "    }\n",
       "\n",
       "    .dataframe thead th {\n",
       "        text-align: right;\n",
       "    }\n",
       "</style>\n",
       "<table border=\"1\" class=\"dataframe\">\n",
       "  <thead>\n",
       "    <tr style=\"text-align: right;\">\n",
       "      <th></th>\n",
       "      <th>filename</th>\n",
       "      <th>category</th>\n",
       "    </tr>\n",
       "  </thead>\n",
       "  <tbody>\n",
       "    <tr>\n",
       "      <th>0</th>\n",
       "      <td>1-53663-A-24.wav</td>\n",
       "      <td>cough</td>\n",
       "    </tr>\n",
       "    <tr>\n",
       "      <th>1</th>\n",
       "      <td>48_Positivo_48_m_17-6-20_2.wav</td>\n",
       "      <td>cough</td>\n",
       "    </tr>\n",
       "    <tr>\n",
       "      <th>2</th>\n",
       "      <td>3-125418-A-24.wav</td>\n",
       "      <td>cough</td>\n",
       "    </tr>\n",
       "    <tr>\n",
       "      <th>3</th>\n",
       "      <td>31_Positivo_34_f_19-6-20_2.wav</td>\n",
       "      <td>cough</td>\n",
       "    </tr>\n",
       "    <tr>\n",
       "      <th>4</th>\n",
       "      <td>10_Positivo_25_f_17-6-20_1.wav</td>\n",
       "      <td>cough</td>\n",
       "    </tr>\n",
       "    <tr>\n",
       "      <th>5</th>\n",
       "      <td>2-108017-A-24.wav</td>\n",
       "      <td>cough</td>\n",
       "    </tr>\n",
       "    <tr>\n",
       "      <th>6</th>\n",
       "      <td>1-58792-A-24.wav</td>\n",
       "      <td>cough</td>\n",
       "    </tr>\n",
       "    <tr>\n",
       "      <th>7</th>\n",
       "      <td>19_Positivo_47_f_21-6-20_1.wav</td>\n",
       "      <td>cough</td>\n",
       "    </tr>\n",
       "    <tr>\n",
       "      <th>8</th>\n",
       "      <td>2-123896-A-24.wav</td>\n",
       "      <td>cough</td>\n",
       "    </tr>\n",
       "    <tr>\n",
       "      <th>9</th>\n",
       "      <td>1-63679-A-24.wav</td>\n",
       "      <td>cough</td>\n",
       "    </tr>\n",
       "    <tr>\n",
       "      <th>10</th>\n",
       "      <td>2-85292-A-24.wav</td>\n",
       "      <td>cough</td>\n",
       "    </tr>\n",
       "    <tr>\n",
       "      <th>11</th>\n",
       "      <td>38_Positivo_34_m_17-6-20_2.wav</td>\n",
       "      <td>cough</td>\n",
       "    </tr>\n",
       "    <tr>\n",
       "      <th>12</th>\n",
       "      <td>529_Positivo_51_m_27-5-20_1.wav</td>\n",
       "      <td>cough</td>\n",
       "    </tr>\n",
       "    <tr>\n",
       "      <th>13</th>\n",
       "      <td>29_Positivo_56_m_22-6-20_1.wav</td>\n",
       "      <td>cough</td>\n",
       "    </tr>\n",
       "    <tr>\n",
       "      <th>14</th>\n",
       "      <td>3-132601-A-24.wav</td>\n",
       "      <td>cough</td>\n",
       "    </tr>\n",
       "    <tr>\n",
       "      <th>15</th>\n",
       "      <td>2-130978-A-21.wav</td>\n",
       "      <td>no_cough</td>\n",
       "    </tr>\n",
       "    <tr>\n",
       "      <th>16</th>\n",
       "      <td>2-124662-A-11.wav</td>\n",
       "      <td>no_cough</td>\n",
       "    </tr>\n",
       "    <tr>\n",
       "      <th>17</th>\n",
       "      <td>2-130979-A-21.wav</td>\n",
       "      <td>no_cough</td>\n",
       "    </tr>\n",
       "    <tr>\n",
       "      <th>18</th>\n",
       "      <td>2-138465-A-43.wav</td>\n",
       "      <td>no_cough</td>\n",
       "    </tr>\n",
       "    <tr>\n",
       "      <th>19</th>\n",
       "      <td>2-122763-B-29.wav</td>\n",
       "      <td>no_cough</td>\n",
       "    </tr>\n",
       "    <tr>\n",
       "      <th>20</th>\n",
       "      <td>2-122067-B-45.wav</td>\n",
       "      <td>no_cough</td>\n",
       "    </tr>\n",
       "    <tr>\n",
       "      <th>21</th>\n",
       "      <td>2-153388-A-31.wav</td>\n",
       "      <td>no_cough</td>\n",
       "    </tr>\n",
       "  </tbody>\n",
       "</table>\n",
       "</div>"
      ],
      "text/plain": [
       "                           filename  category\n",
       "0                  1-53663-A-24.wav     cough\n",
       "1    48_Positivo_48_m_17-6-20_2.wav     cough\n",
       "2                 3-125418-A-24.wav     cough\n",
       "3    31_Positivo_34_f_19-6-20_2.wav     cough\n",
       "4    10_Positivo_25_f_17-6-20_1.wav     cough\n",
       "5                 2-108017-A-24.wav     cough\n",
       "6                  1-58792-A-24.wav     cough\n",
       "7    19_Positivo_47_f_21-6-20_1.wav     cough\n",
       "8                 2-123896-A-24.wav     cough\n",
       "9                  1-63679-A-24.wav     cough\n",
       "10                 2-85292-A-24.wav     cough\n",
       "11   38_Positivo_34_m_17-6-20_2.wav     cough\n",
       "12  529_Positivo_51_m_27-5-20_1.wav     cough\n",
       "13   29_Positivo_56_m_22-6-20_1.wav     cough\n",
       "14                3-132601-A-24.wav     cough\n",
       "15                2-130978-A-21.wav  no_cough\n",
       "16                2-124662-A-11.wav  no_cough\n",
       "17                2-130979-A-21.wav  no_cough\n",
       "18                2-138465-A-43.wav  no_cough\n",
       "19                2-122763-B-29.wav  no_cough\n",
       "20                2-122067-B-45.wav  no_cough\n",
       "21                2-153388-A-31.wav  no_cough"
      ]
     },
     "execution_count": 14,
     "metadata": {},
     "output_type": "execute_result"
    }
   ],
   "source": [
    "test_label"
   ]
  },
  {
   "cell_type": "code",
   "execution_count": 16,
   "metadata": {},
   "outputs": [
    {
     "data": {
      "text/plain": [
       "['no_cough',\n",
       " 'no_cough',\n",
       " 'cough',\n",
       " 'no_cough',\n",
       " 'no_cough',\n",
       " 'cough',\n",
       " 'no_cough',\n",
       " 'no_cough',\n",
       " 'no_cough',\n",
       " 'cough',\n",
       " 'no_cough',\n",
       " 'no_cough',\n",
       " 'no_cough',\n",
       " 'no_cough',\n",
       " 'no_cough',\n",
       " 'no_cough',\n",
       " 'no_cough',\n",
       " 'no_cough',\n",
       " 'no_cough',\n",
       " 'no_cough',\n",
       " 'cough',\n",
       " 'no_cough']"
      ]
     },
     "execution_count": 16,
     "metadata": {},
     "output_type": "execute_result"
    }
   ],
   "source": [
    "predict_select"
   ]
  },
  {
   "cell_type": "code",
   "execution_count": 11,
   "metadata": {},
   "outputs": [
    {
     "data": {
      "text/plain": [
       "array([[ 3, 12],\n",
       "       [ 1,  6]])"
      ]
     },
     "metadata": {},
     "output_type": "display_data"
    }
   ],
   "source": [
    "cm=confusion_matrix(test_label.category,predict_select)\n",
    "display(cm)\n",
    "TN,FP,FN,TP = cm.ravel()\n",
    "recall=TP/(TP+FN)\n",
    "precision=TP/(TP +FP)"
   ]
  },
  {
   "cell_type": "code",
   "execution_count": 12,
   "metadata": {},
   "outputs": [
    {
     "data": {
      "text/plain": [
       "array([[ 3, 12],\n",
       "       [ 1,  6]])"
      ]
     },
     "metadata": {},
     "output_type": "display_data"
    },
    {
     "name": "stdout",
     "output_type": "stream",
     "text": [
      "recall = 0.8571428571428571\n",
      "precision = 0.3333333333333333\n",
      "accuracy =0.4090909090909091\n",
      "specifity= 0.2\n",
      "FI_score =0.48\n"
     ]
    }
   ],
   "source": [
    "cm=confusion_matrix(test_label.category,predict_select)\n",
    "display(cm)\n",
    "TN,FP,FN,TP = cm.ravel()\n",
    "recall=TP/(TP+FN)\n",
    "precision=TP/(TP +FP)\n",
    "accuracy=(TP+TN)/(TP+TN+FP+FN)\n",
    "specifity=TN/(TN+FP)\n",
    "FI_score=2 * (precision*recall / (precision + recall))\n",
    "print('recall = ' + str(recall))\n",
    "print('precision = ' +str(precision))\n",
    "print('accuracy =' + str(accuracy))\n",
    "print('specifity= ' +str(specifity))\n",
    "print('FI_score =' + str(FI_score))"
   ]
  }
 ],
 "metadata": {
  "kernelspec": {
   "display_name": "Python 3",
   "language": "python",
   "name": "python3"
  },
  "language_info": {
   "codemirror_mode": {
    "name": "ipython",
    "version": 3
   },
   "file_extension": ".py",
   "mimetype": "text/x-python",
   "name": "python",
   "nbconvert_exporter": "python",
   "pygments_lexer": "ipython3",
   "version": "3.7.9"
  }
 },
 "nbformat": 4,
 "nbformat_minor": 4
}
